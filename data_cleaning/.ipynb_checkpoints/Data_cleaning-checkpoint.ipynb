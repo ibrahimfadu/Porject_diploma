{
 "cells": [
  {
   "cell_type": "code",
   "execution_count": 1,
   "id": "6f29e00a-1064-49b6-a5c1-a9427f68ca10",
   "metadata": {},
   "outputs": [],
   "source": [
    "import pandas as pd\n",
    "import numpy as np\n",
    "import seaborn as sns\n",
    "import matplotlib.pyplot as plt\n",
    "import os\n",
    "import warnings\n",
    "warnings.filterwarnings(\"ignore\")"
   ]
  },
  {
   "cell_type": "code",
   "execution_count": 2,
   "id": "fb43166b-63fd-4d43-812d-de5d902978d4",
   "metadata": {},
   "outputs": [],
   "source": [
    "data=pd.DataFrame(columns=[\"CODE_COLLEGE\",\"COLLAGE_NAME\"])"
   ]
  },
  {
   "cell_type": "code",
   "execution_count": 3,
   "id": "225fbc27-9e16-4c5a-9ad1-cd8c1c8e09f6",
   "metadata": {},
   "outputs": [],
   "source": [
    "data.to_csv(\"collage_code.csv\",index=True)"
   ]
  },
  {
   "cell_type": "code",
   "execution_count": null,
   "id": "d5407eb9-1726-4810-b2d9-3583659e5105",
   "metadata": {},
   "outputs": [],
   "source": []
  }
 ],
 "metadata": {
  "kernelspec": {
   "display_name": "Python 3 (ipykernel)",
   "language": "python",
   "name": "python3"
  },
  "language_info": {
   "codemirror_mode": {
    "name": "ipython",
    "version": 3
   },
   "file_extension": ".py",
   "mimetype": "text/x-python",
   "name": "python",
   "nbconvert_exporter": "python",
   "pygments_lexer": "ipython3",
   "version": "3.11.7"
  }
 },
 "nbformat": 4,
 "nbformat_minor": 5
}
